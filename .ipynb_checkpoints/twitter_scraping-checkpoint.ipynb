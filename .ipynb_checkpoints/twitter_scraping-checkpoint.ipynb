{
 "cells": [
  {
   "cell_type": "code",
   "execution_count": null,
   "id": "ae4b46f5-d7f0-402a-89a6-6e0169f5abc5",
   "metadata": {},
   "outputs": [],
   "source": []
  },
  {
   "cell_type": "code",
   "execution_count": null,
   "id": "9f02b0c5-e8d6-4b93-b059-f1de9cd1f808",
   "metadata": {},
   "outputs": [],
   "source": []
  },
  {
   "cell_type": "code",
   "execution_count": 12,
   "id": "d72bbf8c-ea3e-4c02-b41d-1fd6a20f8ef5",
   "metadata": {},
   "outputs": [
    {
     "name": "stdout",
     "output_type": "stream",
     "text": [
      "<Response [200]>\n"
     ]
    }
   ],
   "source": [
    "import requests\n",
    "\n",
    "url = \"https://x.com/search?q=apple%20stock%20price&src=typed_query&f=top\"\n",
    "params = {\n",
    "    \"key\": \"scp-live-de999830bbdc41c0afd8dcbd15cda12a\",\n",
    "    \"url\": \"https://httpbin.dev/anything\",\n",
    "    \"render_js\": \"true\",\n",
    "    \"asp\": \"true\"\n",
    "}\n",
    "\n",
    "response = requests.get(url, params=params)\n",
    "print(response)\n",
    "# Print the response or handle it as needed\n",
    "#print(response.json())\n"
   ]
  },
  {
   "cell_type": "code",
   "execution_count": 16,
   "id": "baa19561-7160-4b4d-88bb-4a0ee9f5eeef",
   "metadata": {},
   "outputs": [
    {
     "data": {
      "text/plain": [
       "b'\\n    <!DOCTYPE html>\\n    <head>\\n      <title>x.com</title>\\n      <meta http-equiv=\"refresh\" content=\"0; url = https://twitter.com/x/migrate?tok=7b2265223a222f7365617263683f713d6170706c6525323073746f636b2532307072696365267372633d74797065645f717565727926663d746f70266b65793d7363702d6c6976652d64653939393833306262646334316330616664386463626431356364613132612675726c3d68747470732533412532462532466874747062696e2e646576253246616e797468696e672672656e6465725f6a733d74727565266173703d74727565222c2274223a313733303137383336377dcec1d9ef012ceee0133826e8396e402e\" />\\n      <meta charset=\"utf-8\">\\n      <meta name=\"viewport\" content=\"width=device-width,initial-scale=1,maximum-scale=1,user-scalable=0,viewport-fit=cover\">\\n\\n      <link rel=\"preconnect\" href=\"//abs.twimg.com\">\\n      <link rel=\"dns-prefetch\" href=\"//abs.twimg.com\">\\n      <link rel=\"preconnect\" href=\"//api.twitter.com\">\\n      <link rel=\"dns-prefetch\" href=\"//api.twitter.com\">\\n      <link rel=\"preconnect\" href=\"//api.x.com\">\\n      <link rel=\"dns-prefetch\" href=\"//api.x.com\">\\n      <link rel=\"preconnect\" href=\"//pbs.twimg.com\">\\n      <link rel=\"dns-prefetch\" href=\"//pbs.twimg.com\">\\n      <link rel=\"preconnect\" href=\"//t.co\">\\n      <link rel=\"dns-prefetch\" href=\"//t.co\">\\n      <meta http-equiv=\"onion-location\" content=\"https://twitter3e4tixl4xyajtrzo62zg5vztmjuricljdp2c5kshju4avyoid.onion/\" />\\n      <meta property=\"fb:app_id\" content=\"2231777543\" />\\n      <meta content=\"X (formerly Twitter)\" property=\"og:site_name\" />\\n      <meta name=\"google-site-verification\" content=\"600dQ0pZYsH2xOFt4hYmf5f5NpjCbWE_qk5Y04dErYM\" />\\n      <meta name=\"facebook-domain-verification\" content=\"x6sdcc8b5ju3bh8nbm59eswogvg6t1\" />\\n      <meta name=\"mobile-web-app-capable\" content=\"yes\" />\\n      <meta name=\"apple-mobile-web-app-title\" content=\"Twitter\" />\\n      <meta name=\"apple-mobile-web-app-status-bar-style\" content=\"white\" />\\n      <link rel=\"search\" type=\"application/opensearchdescription+xml\" href=\"/opensearch.xml\" title=\"Twitter\"/>\\n      <link rel=\"apple-touch-icon\" sizes=\"192x192\" href=\"https://abs.twimg.com/responsive-web/client-web/icon-ios.77d25eba.png\" />\\n      <meta name=\"twitter-site-verification\" content=\"AUVDWo1JpbjI22xjTe5JOvTAWuW9bK41CpxYxCeCjH97mEVp7rtiHcvdOaUksJrG\" />\\n      <link rel=\"manifest\" href=\"/manifest.json\" crossorigin=\"use-credentials\" />\\n      <link rel=\"mask-icon\" sizes=\"any\" href=\"https://abs.twimg.com/responsive-web/client-web/icon-svg.ea5ff4aa.svg\" color=\"#1D9BF0\" />\\n      <link rel=\"shortcut icon\" href=\"https://abs.twimg.com/favicons/twitter-pip.3.ico\" />\\n      <meta name=\"theme-color\" content=\"#000000\" />\\n      <script type=\"text/javascript\" charset=\"utf-8\" nonce=\"ZGU4OWQ4ODktZDA0ZS00OTUxLWFlNjQtMWI2NTI0MDMxMzVm\">document.location = \"https://twitter.com/x/migrate?tok=7b2265223a222f7365617263683f713d6170706c6525323073746f636b2532307072696365267372633d74797065645f717565727926663d746f70266b65793d7363702d6c6976652d64653939393833306262646334316330616664386463626431356364613132612675726c3d68747470732533412532462532466874747062696e2e646576253246616e797468696e672672656e6465725f6a733d74727565266173703d74727565222c2274223a313733303137383336377dcec1d9ef012ceee0133826e8396e402e\"</script>\\n      </head>\\n    <body style=\"background: #000\">\\n\\n    </body>\\n    </html>\\n    '"
      ]
     },
     "execution_count": 16,
     "metadata": {},
     "output_type": "execute_result"
    }
   ],
   "source": [
    "response.content"
   ]
  },
  {
   "cell_type": "code",
   "execution_count": 28,
   "id": "c4c0d6ea-0165-47ae-9262-d0858e1ce552",
   "metadata": {},
   "outputs": [],
   "source": [
    "import requests\n",
    "\n",
    "url = \"https://x.com/search?q=apple%20stock%20price&src=typed_query&f=top\"\n"
   ]
  },
  {
   "cell_type": "code",
   "execution_count": null,
   "id": "a3c2bceb-53f7-48e8-be0d-8cb7b90b1783",
   "metadata": {},
   "outputs": [],
   "source": []
  },
  {
   "cell_type": "code",
   "execution_count": 30,
   "id": "658258fc-290f-4bb6-a525-eec65cb8f624",
   "metadata": {},
   "outputs": [
    {
     "name": "stdout",
     "output_type": "stream",
     "text": [
      "Status Code: 400\n",
      "Response: <!DOCTYPE html>\n",
      "<html dir=\"ltr\" lang=\"en\">\n",
      "<head>\n",
      "  <meta charset=\"utf-8\" />\n",
      "  <meta name=\"viewport\"\n",
      "    content=\"width=device-width,initial-scale=1,maximum-scale=1,user-scalable=0,viewport-fit=cover\" />\n",
      "  <style>\n",
      "    body {\n",
      "      -ms-overflow-style: scrollbar;\n",
      "      overflow-y: scroll;\n",
      "      overscroll-behavior-y: none;\n",
      "    }\n",
      "\n",
      "    .errorContainer {\n",
      "      background-color: #FFF;\n",
      "      color: #0F1419;\n",
      "      max-width: 600px;\n",
      "      margin: 0 auto;\n",
      "      padding: 10%;\n",
      "      font-family: Helvetica, sans-serif;\n",
      "      font-size: 16px;\n",
      "    }\n",
      "\n",
      "    .errorButton {\n",
      "      margin: 3em 0;\n",
      "    }\n",
      "\n",
      "    .errorButton a {\n",
      "      background: #1DA1F2;\n",
      "      border-radius: 2.5em;\n",
      "      color: white;\n",
      "      padding: 1em 2em;\n",
      "      text-decoration: none;\n",
      "    }\n",
      "\n",
      "    .errorButton a:hover,\n",
      "    .errorButton a:focus {\n",
      "      background: rgb(26, 145, 218);\n",
      "    }\n",
      "\n",
      "    .errorFooter {\n",
      "      color: #657786;\n",
      "      font-size: 80%;\n",
      "      line-height: 1.5;\n",
      "      padding: 1em 0;\n",
      "    }\n",
      "\n",
      "    .errorFooter a,\n",
      "    .errorFooter a:visited {\n",
      "      color: #657786;\n",
      "      text-decoration: none;\n",
      "      padding-right: 1em;\n",
      "    }\n",
      "\n",
      "    .errorFooter a:hover,\n",
      "    .errorFooter a:active {\n",
      "      text-decoration: underline;\n",
      "    }\n",
      "\n",
      "  </style>\n",
      "</head>\n",
      "<body>\n",
      "  <div class=\"errorContainer\">\n",
      "    <svg role=\"img\" aria-label=\"X logo\" width=\"48\" height=\"48\" viewBox=\"0 0 128 128\" xmlns=\"http://www.w3.org/2000/svg\">\n",
      "      <path fill-rule=\"evenodd\" clip-rule=\"evenodd\" d=\"M86.8918 28.25H99.0219L72.5243 58.5334L103.698 99.75H79.285L60.1647 74.7536L38.2929 99.75H26.1627L54.5069 67.3565L24.5938 28.25H49.6199L66.9004 51.0974L86.8918 28.25ZM82.6337 92.4904H89.3555L45.9716 35.1301H38.7584L82.6337 92.4904Z\" fill=\"black\"/>\n",
      "    </svg>\n",
      "    <h1>This browser is no longer supported.</h1>\n",
      "    <p>\n",
      "      Please switch to a supported browser to continue using x.com. You can see a list of supported browsers in our Help Center.\n",
      "    </p>\n",
      "    <p class=\"errorButton\"><a href=\"https://help.x.com/using-x/x-supported-browsers\">Help Center</a>\n",
      "    </p>\n",
      "    <p class=\"errorFooter\">\n",
      "      <a href=\"https://twitter.com/tos\">Terms of Service</a>\n",
      "      <a href=\"https://twitter.com/privacy\">Privacy Policy</a>\n",
      "      <a href=\"https://support.twitter.com/articles/20170514\">Cookie Policy</a>\n",
      "      <a href=\"https://legal.twitter.com/imprint.html\">Imprint</a>\n",
      "      <a href=\"https://business.twitter.com/en/help/troubleshooting/how-twitter-ads-work.html?ref=web-twc-ao-gbl-adsinfo&utm_source=twc&utm_medium=web&utm_campaign=ao&utm_content=adsinfo\">Ads info</a>\n",
      "      © 2024 X Corp.\n",
      "    </p>\n",
      "\n",
      "  </div>\n",
      "</body>\n",
      "</html>\n"
     ]
    }
   ],
   "source": [
    "import requests\n",
    "\n",
    "\n",
    "# Parameters based on scrapfly.io's expected query structure\n",
    "params = {\n",
    "    \"key\": \"scp-live-de999830bbdc41c0afd8dcbd15cda12a\",\n",
    "    \"url\": \"https://x.com/search?q=apple%20stock%20price&src=typed_query&f=top\",\n",
    "}\n",
    "\n",
    "# Headers need to be structured as a dictionary\n",
    "headers = {\n",
    "    \"cookie\": \"night_mode=2; kdt=I3EEn5bZrTaE2vzF8GHaW7Rx2qA9nFGHJQMfZl2V; lang=en; g_state={\\\"i_l\\\":0}; des_opt_in=Y; _ga=GA1.2.1537947692.1726074334; dnt=1; guest_id=v1%3A172672497405104117; guest_id_marketing=v1%3A172672497405104117; guest_id_ads=v1%3A172672497405104117; auth_token=6e09cc304607ddf071e89fbf0c1536360ff31eaf; ct0=a5900d5fbef7964c4ec5a263902e27c33a1a70b620098fbcc6b63b6b432bc6a7d2dbead8d4b53c7b331491a1021c08467bedaf4950889dd230e56521556bad9227d215f21f769e9c2b93042b7dbf1b7e; twid=u%3D1831805758255853569; personalization_id=\\\"v1_REYF51zdOvsRV6Dl2eYSoA==\\\"; att=1-5JGCBrIYGvRVXleOsQWa3hU4rRSz6mHNXAZYiWpJ\"\n",
    "}\n",
    "\n",
    "# Make the request\n",
    "response = requests.get(url, params=params, headers=headers)\n",
    "\n",
    "# Print the response status and body for debugging\n",
    "print(\"Status Code:\", response.status_code)\n",
    "print(\"Response:\", response.text)\n"
   ]
  },
  {
   "cell_type": "code",
   "execution_count": null,
   "id": "151ecd61-e1e8-4a02-a9ba-106da1f7662f",
   "metadata": {},
   "outputs": [],
   "source": []
  }
 ],
 "metadata": {
  "kernelspec": {
   "display_name": "Python 3 (ipykernel)",
   "language": "python",
   "name": "python3"
  },
  "language_info": {
   "codemirror_mode": {
    "name": "ipython",
    "version": 3
   },
   "file_extension": ".py",
   "mimetype": "text/x-python",
   "name": "python",
   "nbconvert_exporter": "python",
   "pygments_lexer": "ipython3",
   "version": "3.12.4"
  }
 },
 "nbformat": 4,
 "nbformat_minor": 5
}
