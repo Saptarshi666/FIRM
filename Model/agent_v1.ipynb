{
 "cells": [
  {
   "cell_type": "code",
   "execution_count": 1,
   "metadata": {},
   "outputs": [],
   "source": [
    "# All imports for this question\n",
    "# from google.colab import userdata\n",
    "import google.generativeai as genai\n",
    "from datasets import Dataset\n",
    "import random\n",
    "from typing import Callable, List, Any\n",
    "import json"
   ]
  },
  {
   "cell_type": "code",
   "execution_count": 2,
   "metadata": {},
   "outputs": [],
   "source": [
    "import json\n",
    "\n",
    "GEMINI_api_key = \"\"\n",
    "ChatGPT_key = \"\"\n",
    "with open(r'../Keys/config.json') as config_file:\n",
    "    config = json.load(config_file)\n",
    "    GEMINI_api_key = config['Gemini_api_key']\n",
    "    ChatGPT_key = config['GPT_Key']\n"
   ]
  },
  {
   "cell_type": "code",
   "execution_count": 9,
   "metadata": {},
   "outputs": [
    {
     "name": "stdout",
     "output_type": "stream",
     "text": [
      "Imagine your favorite book, the one with the princess and the dragon. You love to read it, but sometimes the words are a little tricky to understand.\n",
      "\n",
      "Natural Language Processing is like a special computer assistant that can help you read the book better. It's like a tiny superhero that can recognize and understand words, just like you do.\n",
      "\n",
      "The computer assistant can break down the sentences into smaller parts, kind of like a puzzle. It figures out which words are nouns, verbs, and adjectives, just like you learned in school.\n",
      "\n",
      "Then, it uses its special superpower to put the words back together in a way that makes sense to you. It's like a magic wand that helps you understand the story better and makes it even more fun to read!\n"
     ]
    }
   ],
   "source": [
    "# genai.configure(api_key=GEMINI_api_key)\n",
    "# model = genai.GenerativeModel(\"gemini-1.5-flash\")\n",
    "# model = genai.GenerativeModel(\"gemini-1.0-pro\")\n",
    "# response = model.generate_content(\"What is Natural Language Processing? Explain it to a five year old.\")\n",
    "# print(response.text)\n",
    "# response = model.generate_content(\"Explain how AI works\")\n",
    "# print(response.text)"
   ]
  },
  {
   "cell_type": "code",
   "execution_count": 3,
   "metadata": {},
   "outputs": [
    {
     "name": "stdout",
     "output_type": "stream",
     "text": [
      "ChatCompletionMessage(content=\"Functions call again,  \\nLayers deep in thought unwind,  \\nInfinity's dance.\", refusal=None, role='assistant', audio=None, function_call=None, tool_calls=None)\n"
     ]
    }
   ],
   "source": [
    "from openai import OpenAI\n",
    "client = OpenAI(api_key=ChatGPT_key)\n",
    "\n",
    "completion = client.chat.completions.create(\n",
    "    model=\"gpt-4o-mini\",\n",
    "    messages=[\n",
    "        {\"role\": \"system\", \"content\": \"You are a helpful assistant.\"},\n",
    "        {\n",
    "            \"role\": \"user\",\n",
    "            \"content\": \"Write a haiku about recursion in programming.\"\n",
    "        }\n",
    "    ]\n",
    ")\n",
    "\n",
    "print(completion.choices[0].message)"
   ]
  },
  {
   "cell_type": "code",
   "execution_count": 4,
   "metadata": {},
   "outputs": [
    {
     "name": "stdout",
     "output_type": "stream",
     "text": [
      "ChatCompletion(id='chatcmpl-ANMZRvg3bPsF9LyCMVFAvGahCxS5h', choices=[Choice(finish_reason='stop', index=0, logprobs=None, message=ChatCompletionMessage(content=\"Functions call again,  \\nLayers deep in thought unwind,  \\nInfinity's dance.\", refusal=None, role='assistant', audio=None, function_call=None, tool_calls=None))], created=1730131669, model='gpt-4o-mini-2024-07-18', object='chat.completion', service_tier=None, system_fingerprint='fp_f59a81427f', usage=CompletionUsage(completion_tokens=16, prompt_tokens=26, total_tokens=42, completion_tokens_details=CompletionTokensDetails(audio_tokens=None, reasoning_tokens=0), prompt_tokens_details=PromptTokensDetails(audio_tokens=None, cached_tokens=0)))\n"
     ]
    }
   ],
   "source": [
    "print(completion)"
   ]
  },
  {
   "cell_type": "code",
   "execution_count": null,
   "metadata": {},
   "outputs": [],
   "source": []
  }
 ],
 "metadata": {
  "kernelspec": {
   "display_name": "base",
   "language": "python",
   "name": "python3"
  },
  "language_info": {
   "codemirror_mode": {
    "name": "ipython",
    "version": 3
   },
   "file_extension": ".py",
   "mimetype": "text/x-python",
   "name": "python",
   "nbconvert_exporter": "python",
   "pygments_lexer": "ipython3",
   "version": "3.12.4"
  }
 },
 "nbformat": 4,
 "nbformat_minor": 2
}
